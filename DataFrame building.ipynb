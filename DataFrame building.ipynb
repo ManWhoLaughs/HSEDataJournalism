{
 "cells": [
  {
   "cell_type": "code",
   "execution_count": 2,
   "metadata": {},
   "outputs": [],
   "source": [
    "import numpy as np\n",
    "import pandas as pd\n",
    "import os\n",
    "path = 'C:/Users/Vladimir/Desktop/data'\n",
    "objs = os.walk(path)\n",
    "names = []\n",
    "for d in objs:\n",
    "    for f in d:\n",
    "        if len(f) > 1:\n",
    "            names = f\n"
   ]
  },
  {
   "cell_type": "code",
   "execution_count": 42,
   "metadata": {},
   "outputs": [
    {
     "name": "stdout",
     "output_type": "stream",
     "text": [
      "13\n"
     ]
    }
   ],
   "source": [
    "def isfloat(value):\n",
    "    for i in range(len(value)):\n",
    "        if (not value[i].isnumeric() and value[i] != ',' and value[i] != '.'):\n",
    "            return False\n",
    "    return True\n",
    "data = []\n",
    "parameter = []\n",
    "Country_name = \"\"\n",
    "Country_information = []\n",
    "cntrs = []\n",
    "for name in names:\n",
    "    file = open(path+'/'+name, 'r')\n",
    "    st = [1,2]\n",
    "    parameter.append(name[:len(name)-4])\n",
    "    while (len(st) > 1):\n",
    "        st = file.readline().split()\n",
    "        if (len(st) > 1):\n",
    "            i = 0;\n",
    "            while (st[i] != 'None' and not isfloat(st[i])):\n",
    "                Country_name += st[i]+' '\n",
    "                i += 1\n",
    "            Country_information.append(Country_name)\n",
    "            while (i < len(st)):\n",
    "                if (st[i]  == 'None'):\n",
    "                    Country_information.append(st[i])\n",
    "                else:\n",
    "                    Country_information.append(float(st[i].replace(',','')))\n",
    "                i += 1\n",
    "            i = 0\n",
    "            cntrs.append(np.array(Country_information))\n",
    "        Country_information.clear()\n",
    "        Country_name = \"\"\n",
    "    parameter.append(np.array(cntrs))\n",
    "    cntrs = []\n",
    "    data.append(parameter)\n",
    "    parameter = []\n",
    "data.pop()\n",
    "print(len(data))"
   ]
  },
  {
   "cell_type": "code",
   "execution_count": 43,
   "metadata": {},
   "outputs": [],
   "source": [
    "output = open('html_table.txt', 'w')\n",
    "output.write('<!DOCTYPE html>\\n')\n",
    "output.write('<html>\\n')\n",
    "output.write('<body>\\n')\n",
    "output.write('<h2>Table for homicide in different countries</h2>\\n')\n",
    "output.write('<table style=\"width:100%\">\\n')\n",
    "index = 5\n",
    "header = ['Country', '2000', '2005', '2010', '2011', '2012', '2013', '2014']\n",
    "output.write('<tr>\\n')\n",
    "for elem in header:\n",
    "    output.write('<th>')\n",
    "    output.write(elem)\n",
    "    output.write('</th>\\n')\n",
    "output.write('</tr>\\n')\n",
    "for i in range(len(data[index][1])):\n",
    "    output.write('<tr>\\n')\n",
    "    for j in range(len(data[index][1][i])):\n",
    "        output.write('<th>')\n",
    "        output.write(str(data[index][1][i][j]))\n",
    "        output.write('</th>\\n')\n",
    "    output.write('</tr>\\n')\n",
    "output.write('</table>\\n</body>\\n</html>\\n')\n",
    "output.close()"
   ]
  },
  {
   "cell_type": "code",
   "execution_count": null,
   "metadata": {},
   "outputs": [],
   "source": []
  }
 ],
 "metadata": {
  "kernelspec": {
   "display_name": "Python 3",
   "language": "python",
   "name": "python3"
  },
  "language_info": {
   "codemirror_mode": {
    "name": "ipython",
    "version": 3
   },
   "file_extension": ".py",
   "mimetype": "text/x-python",
   "name": "python",
   "nbconvert_exporter": "python",
   "pygments_lexer": "ipython3",
   "version": "3.6.4"
  }
 },
 "nbformat": 4,
 "nbformat_minor": 2
}
