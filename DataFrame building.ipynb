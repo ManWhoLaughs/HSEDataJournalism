{
 "cells": [
  {
   "cell_type": "code",
   "execution_count": 23,
   "metadata": {},
   "outputs": [],
   "source": [
    "import numpy as np\n",
    "import pandas as pd\n",
    "import os\n",
    "path = 'C:/Users/Vladimir/Desktop/data'\n",
    "objs = os.walk(path)\n",
    "names = []\n",
    "for d in objs:\n",
    "    for f in d:\n",
    "        if len(f) > 1:\n",
    "            names = f\n"
   ]
  },
  {
   "cell_type": "code",
   "execution_count": 49,
   "metadata": {},
   "outputs": [
    {
     "name": "stdout",
     "output_type": "stream",
     "text": [
      "[list(['Burglary and housebraking rate.txt', array(['Denmark ', 'None', '1125.0', '1136.7', '1034.2', '1005.0',\n",
      "       '896.9'], dtype='<U8')])\n",
      " list(['Burglary and housebraking rate.txt', array(['Uruguay ', 'None', 'None', 'None', 'None', 'None', '706.2'],\n",
      "      dtype='<U8')])\n",
      " list(['Burglary and housebraking rate.txt', array(['Belgium ', '539.5', '581.9', '636.4', '682.7', '676.8', '647.4'],\n",
      "      dtype='<U8')])\n",
      " ...\n",
      " list(['Robbery.txt', array(['Brazil ', 'None', '1081041.0', '1087059.0', '979571.0',\n",
      "       '1012504.0', 'None'], dtype='<U9')])\n",
      " list(['Robbery.txt', array(['Hong Kong Special Administrative Region of China ', '1675.0',\n",
      "       '778.0', '731.0', '616.0', '500.0', 'None'], dtype='<U49')])\n",
      " list([])]\n",
      "1666\n"
     ]
    }
   ],
   "source": [
    "def isfloat(value):\n",
    "    for i in range(len(value)):\n",
    "        if (not value[i].isnumeric() and value[i] != ',' and value[i] != '.'):\n",
    "            return False\n",
    "    return True\n",
    "data = []\n",
    "parameter = []\n",
    "Country_name = \"\"\n",
    "Country_information = []\n",
    "for name in names:\n",
    "    file = open(path+'/'+name, 'r')\n",
    "    st = [1,2]\n",
    "    while (len(st) > 1):\n",
    "        st = file.readline().split()\n",
    "        if (len(st) > 1):\n",
    "            i = 0;\n",
    "            while (st[i] != 'None' and not isfloat(st[i])):\n",
    "                Country_name += st[i]+' '\n",
    "                i += 1\n",
    "            Country_information.append(Country_name)\n",
    "            while (i < len(st)):\n",
    "                if (st[i]  == 'None'):\n",
    "                    Country_information.append(st[i])\n",
    "                else:\n",
    "                    Country_information.append(float(st[i].replace(',','')))\n",
    "                i += 1\n",
    "            i = 0\n",
    "            parameter.append(name)\n",
    "            parameter.append(np.array(Country_information))\n",
    "        Country_information.clear()\n",
    "        Country_name = \"\"\n",
    "        data.append(parameter)\n",
    "        parameter = []\n",
    "data = np.array(data)\n",
    "print(data)\n",
    "print(len(data))"
   ]
  },
  {
   "cell_type": "code",
   "execution_count": null,
   "metadata": {},
   "outputs": [],
   "source": []
  }
 ],
 "metadata": {
  "kernelspec": {
   "display_name": "Python 3",
   "language": "python",
   "name": "python3"
  },
  "language_info": {
   "codemirror_mode": {
    "name": "ipython",
    "version": 3
   },
   "file_extension": ".py",
   "mimetype": "text/x-python",
   "name": "python",
   "nbconvert_exporter": "python",
   "pygments_lexer": "ipython3",
   "version": "3.6.4"
  }
 },
 "nbformat": 4,
 "nbformat_minor": 2
}
